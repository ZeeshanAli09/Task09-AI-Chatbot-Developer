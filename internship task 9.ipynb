{
 "cells": [
  {
   "cell_type": "code",
   "execution_count": 5,
   "id": "3c584cee-580d-4d42-880e-252695e0095a",
   "metadata": {},
   "outputs": [
    {
     "name": "stderr",
     "output_type": "stream",
     "text": [
      "\n",
      "[notice] A new release of pip is available: 24.3.1 -> 25.2\n",
      "[notice] To update, run: python.exe -m pip install --upgrade pip\n",
      "[nltk_data] Downloading package punkt to C:\\Users\\HELLO\n",
      "[nltk_data]     LARKANA\\AppData\\Roaming\\nltk_data...\n",
      "[nltk_data]   Package punkt is already up-to-date!\n",
      "[nltk_data] Downloading package stopwords to C:\\Users\\HELLO\n",
      "[nltk_data]     LARKANA\\AppData\\Roaming\\nltk_data...\n",
      "[nltk_data]   Package stopwords is already up-to-date!\n"
     ]
    },
    {
     "name": "stdout",
     "output_type": "stream",
     "text": [
      "Requirement already satisfied: scikit-learn in d:\\5th-semester\\jupyter\\lib\\site-packages (1.6.0)\n",
      "Requirement already satisfied: pandas in d:\\5th-semester\\jupyter\\lib\\site-packages (2.2.2)\n",
      "Requirement already satisfied: nltk in d:\\5th-semester\\jupyter\\lib\\site-packages (3.9.1)\n",
      "Requirement already satisfied: numpy>=1.19.5 in d:\\5th-semester\\jupyter\\lib\\site-packages (from scikit-learn) (1.26.4)\n",
      "Requirement already satisfied: scipy>=1.6.0 in d:\\5th-semester\\jupyter\\lib\\site-packages (from scikit-learn) (1.15.0)\n",
      "Requirement already satisfied: joblib>=1.2.0 in d:\\5th-semester\\jupyter\\lib\\site-packages (from scikit-learn) (1.4.2)\n",
      "Requirement already satisfied: threadpoolctl>=3.1.0 in d:\\5th-semester\\jupyter\\lib\\site-packages (from scikit-learn) (3.5.0)\n",
      "Requirement already satisfied: python-dateutil>=2.8.2 in d:\\5th-semester\\jupyter\\lib\\site-packages (from pandas) (2.9.0.post0)\n",
      "Requirement already satisfied: pytz>=2020.1 in d:\\5th-semester\\jupyter\\lib\\site-packages (from pandas) (2024.1)\n",
      "Requirement already satisfied: tzdata>=2022.7 in d:\\5th-semester\\jupyter\\lib\\site-packages (from pandas) (2023.3)\n",
      "Requirement already satisfied: click in d:\\5th-semester\\jupyter\\lib\\site-packages (from nltk) (8.1.7)\n",
      "Requirement already satisfied: regex>=2021.8.3 in d:\\5th-semester\\jupyter\\lib\\site-packages (from nltk) (2023.10.3)\n",
      "Requirement already satisfied: tqdm in d:\\5th-semester\\jupyter\\lib\\site-packages (from nltk) (4.66.4)\n",
      "Requirement already satisfied: six>=1.5 in d:\\5th-semester\\jupyter\\lib\\site-packages (from python-dateutil>=2.8.2->pandas) (1.16.0)\n",
      "Requirement already satisfied: colorama in d:\\5th-semester\\jupyter\\lib\\site-packages (from click->nltk) (0.4.6)\n",
      " Travel Chatbot! Type 'exit' to quit.\n"
     ]
    },
    {
     "name": "stdin",
     "output_type": "stream",
     "text": [
      "You:  what are the best places to visit in paris?\n"
     ]
    },
    {
     "name": "stdout",
     "output_type": "stream",
     "text": [
      "Bot: The Eiffel Tower, Louvre Museum, and Notre Dame Cathedral are top attractions in Paris.\n"
     ]
    },
    {
     "name": "stdin",
     "output_type": "stream",
     "text": [
      "You:  how can i book cheap flights?\n"
     ]
    },
    {
     "name": "stdout",
     "output_type": "stream",
     "text": [
      "Bot: Use flight comparison websites like Skyscanner or Google Flights for cheap deals.\n"
     ]
    },
    {
     "name": "stdin",
     "output_type": "stream",
     "text": [
      "You:  do i need visa for visiting japan?\n"
     ]
    },
    {
     "name": "stdout",
     "output_type": "stream",
     "text": [
      "Bot: Visa requirements depend on your nationality. Check the Japanese embassy website for details.\n"
     ]
    },
    {
     "name": "stdin",
     "output_type": "stream",
     "text": [
      "You:  what are the COVID travel requirements for canada?\n"
     ]
    },
    {
     "name": "stdout",
     "output_type": "stream",
     "text": [
      "Bot: You should check Canada's official government travel website for the latest COVID requirements.\n"
     ]
    },
    {
     "name": "stdin",
     "output_type": "stream",
     "text": [
      "You:  exit\n"
     ]
    },
    {
     "name": "stdout",
     "output_type": "stream",
     "text": [
      "Bot: Goodbye! Have a great trip! \n"
     ]
    }
   ],
   "source": [
    "# Install required libraries\n",
    "!pip install scikit-learn pandas nltk\n",
    "\n",
    "import pandas as pd\n",
    "import nltk\n",
    "from sklearn.feature_extraction.text import TfidfVectorizer\n",
    "from sklearn.metrics.pairwise import cosine_similarity\n",
    "\n",
    "# Download stopwords\n",
    "nltk.download('punkt')\n",
    "nltk.download('stopwords')\n",
    "\n",
    "# Step 1: Create a small Travel FAQ datase\n",
    "data = {\n",
    "    \"question\": [\n",
    "        \"What are the best places to visit in Paris?\",\n",
    "        \"How can I book cheap flights?\",\n",
    "        \"Do I need a visa for visiting Japan?\",\n",
    "        \"What is the best time to visit Dubai?\",\n",
    "        \"How can I find good hotels in New York?\",\n",
    "        \"What are the COVID travel requirements for Canada?\"\n",
    "    ],\n",
    "    \"answer\": [\n",
    "        \"The Eiffel Tower, Louvre Museum, and Notre Dame Cathedral are top attractions in Paris.\",\n",
    "        \"Use flight comparison websites like Skyscanner or Google Flights for cheap deals.\",\n",
    "        \"Visa requirements depend on your nationality. Check the Japanese embassy website for details.\",\n",
    "        \"November to March is the best time to visit Dubai for cooler weather.\",\n",
    "        \"Websites like Booking.com and TripAdvisor can help you find good hotels in New York.\",\n",
    "        \"You should check Canada's official government travel website for the latest COVID requirements.\"\n",
    "    ]\n",
    "}\n",
    "\n",
    "df = pd.DataFrame(data)\n",
    "\n",
    "# Step 2: Prepare TF-IDF model\n",
    "vectorizer = TfidfVectorizer(stop_words='english')\n",
    "tfidf_matrix = vectorizer.fit_transform(df['question'])\n",
    "\n",
    "\n",
    "# Step 3: Chatbot Function\n",
    "\n",
    "def chatbot(query):\n",
    "    query_vec = vectorizer.transform([query])\n",
    "    similarity = cosine_similarity(query_vec, tfidf_matrix)\n",
    "    index = similarity.argmax()\n",
    "    return df['answer'][index]\n",
    "\n",
    "\n",
    "# Step 4: Chat Loop\n",
    "\n",
    "print(\" Travel Chatbot! Type 'exit' to quit.\")\n",
    "while True:\n",
    "    user_input = input(\"You: \")\n",
    "    if user_input.lower() == \"exit\":\n",
    "        print(\"Bot: Goodbye! Have a great trip! \")\n",
    "        break\n",
    "    response = chatbot(user_input)\n",
    "    print(\"Bot:\", response)\n"
   ]
  },
  {
   "cell_type": "code",
   "execution_count": null,
   "id": "87261aca-a56d-4e28-ba20-20bc55346d24",
   "metadata": {},
   "outputs": [],
   "source": []
  }
 ],
 "metadata": {
  "kernelspec": {
   "display_name": "Python 3 (ipykernel)",
   "language": "python",
   "name": "python3"
  },
  "language_info": {
   "codemirror_mode": {
    "name": "ipython",
    "version": 3
   },
   "file_extension": ".py",
   "mimetype": "text/x-python",
   "name": "python",
   "nbconvert_exporter": "python",
   "pygments_lexer": "ipython3",
   "version": "3.12.4"
  }
 },
 "nbformat": 4,
 "nbformat_minor": 5
}
